{
 "cells": [
  {
   "cell_type": "code",
   "execution_count": 1,
   "metadata": {},
   "outputs": [
    {
     "data": {
      "text/html": [
       "<script>requirejs.config({paths: { 'plotly': ['https://cdn.plot.ly/plotly-latest.min']},});if(!window.Plotly) {{require(['plotly'],function(plotly) {window.Plotly=plotly;});}}</script>"
      ],
      "text/vnd.plotly.v1+html": [
       "<script>requirejs.config({paths: { 'plotly': ['https://cdn.plot.ly/plotly-latest.min']},});if(!window.Plotly) {{require(['plotly'],function(plotly) {window.Plotly=plotly;});}}</script>"
      ]
     },
     "metadata": {},
     "output_type": "display_data"
    }
   ],
   "source": [
    "import pandas as pd\n",
    "import numpy as np\n",
    "\n",
    "import plotly.offline as py\n",
    "import plotly.graph_objs as go\n",
    "py.init_notebook_mode(True)"
   ]
  },
  {
   "cell_type": "code",
   "execution_count": 7,
   "metadata": {},
   "outputs": [
    {
     "data": {
      "text/plain": [
       "(102, 20)"
      ]
     },
     "execution_count": 7,
     "metadata": {},
     "output_type": "execute_result"
    }
   ],
   "source": [
    "df = pd.read_csv('df_after_engineering.csv')\n",
    "df = df.drop('TransformedCabinDeck', axis=1)\n",
    "df = df.dropna()\n",
    "df = df[np.logical_and(df['Sex'] == 1, df['Pclass'] == 0)]\n",
    "df.shape"
   ]
  },
  {
   "cell_type": "code",
   "execution_count": 4,
   "metadata": {},
   "outputs": [
    {
     "data": {
      "text/plain": [
       "Index(['PassengerId', 'Survived', 'Pclass', 'Sex', 'Age', 'SibSp', 'Parch',\n",
       "       'Fare', 'Salutation', 'NumRelatives', 'HasFamily', 'LastNameOccurance',\n",
       "       'TicketOccurance', 'IsBritish', 'BoardedAtSouthamption',\n",
       "       'BoardedAtQueenstown', 'BoardedAtCherbourg', 'IsAlone', 'AgeLogFare',\n",
       "       'YouthFamilyScore'],\n",
       "      dtype='object')"
      ]
     },
     "execution_count": 4,
     "metadata": {},
     "output_type": "execute_result"
    }
   ],
   "source": [
    "df.columns"
   ]
  },
  {
   "cell_type": "code",
   "execution_count": 36,
   "metadata": {},
   "outputs": [
    {
     "name": "stdout",
     "output_type": "stream",
     "text": [
      "acc this round was 0.7352941176470589\n",
      "best_params_ was {'p': 1, 'n_neighbors': 1}\n",
      "acc this round was 0.7156862745098039\n",
      "best_params_ was {'p': 2, 'n_neighbors': 1}\n",
      "acc this round was 0.7156862745098039\n",
      "best_params_ was {'p': 1, 'n_neighbors': 2}\n",
      "acc this round was 0.7058823529411765\n",
      "best_params_ was {'p': 2, 'n_neighbors': 3}\n",
      "acc this round was 0.7156862745098039\n",
      "best_params_ was {'p': 1, 'n_neighbors': 2}\n",
      "acc this round was 0.7156862745098039\n",
      "best_params_ was {'p': 2, 'n_neighbors': 1}\n",
      "acc this round was 0.7352941176470589\n",
      "best_params_ was {'p': 1, 'n_neighbors': 1}\n",
      "acc this round was 0.7156862745098039\n",
      "best_params_ was {'p': 2, 'n_neighbors': 1}\n",
      "acc this round was 0.7352941176470589\n",
      "best_params_ was {'p': 1, 'n_neighbors': 1}\n",
      "acc this round was 0.7352941176470589\n",
      "best_params_ was {'p': 1, 'n_neighbors': 1}\n",
      "average acc was 0.7225490196078432\n"
     ]
    }
   ],
   "source": [
    "from sklearn.neighbors import KNeighborsClassifier\n",
    "from sklearn.linear_model import LogisticRegression\n",
    "from sklearn.model_selection import RandomizedSearchCV, StratifiedKFold\n",
    "from sklearn.preprocessing import StandardScaler\n",
    "\n",
    "import warnings\n",
    "warnings.filterwarnings('ignore')\n",
    "\n",
    "params = ['n_neighbors', 'p']\n",
    "param_dict = {param: [] for param in params}\n",
    "\n",
    "data = df.drop('PassengerId', axis=1)\n",
    "\n",
    "skf = StratifiedKFold(n_splits=5)\n",
    "\n",
    "X = df.drop(['Survived', 'Salutation', 'IsAlone', 'YouthFamilyScore'], axis=1)\n",
    "\n",
    "# X = X[['NumRelatives', 'Fare', 'Age', 'IsBritish', 'BoardedAtSouthamption']]\n",
    "X = X[['NumRelatives', 'Fare', 'Age', 'IsBritish', 'BoardedAtSouthamption',\n",
    "       'AgeLogFare', 'SibSp', 'BoardedAtCherbourg']]\n",
    "#X.loc[:, 'IsBritish'] = 10 * df['IsBritish']\n",
    "#X = StandardScaler().fit_transform(X)\n",
    "y = df['Survived']\n",
    "\n",
    "n_trials = 10\n",
    "\n",
    "acc_list = []\n",
    "param_list = []\n",
    "\n",
    "for i in range(n_trials):\n",
    "    \n",
    "    param_dict = {\n",
    "        'n_neighbors': [i for i in range(1, 4)],\n",
    "        'p': [1, 2],\n",
    "#         'penalty': ['l2'],\n",
    "#         'C': np.linspace(0.1, 1.2, 100),\n",
    "#         'class_weight': [None, 'balanced'],\n",
    "#         'n_jobs': [-1]\n",
    "    }\n",
    "\n",
    "    random_grid = RandomizedSearchCV(\n",
    "        estimator=KNeighborsClassifier(),\n",
    "        param_distributions = param_dict,\n",
    "        scoring='accuracy',\n",
    "        cv = skf.split(X, y),\n",
    "        n_jobs=-1,\n",
    "        n_iter=2\n",
    "    )\n",
    "    \n",
    "    random_grid.fit(X, y)\n",
    "    \n",
    "    acc_list.append(random_grid.best_score_)\n",
    "    print('acc this round was', acc_list[-1])\n",
    "    param_list.append(random_grid.best_params_)\n",
    "    print('best_params_ was', param_list[-1])\n",
    "    \n",
    "print('average acc was', sum(acc_list) / n_trials)"
   ]
  },
  {
   "cell_type": "code",
   "execution_count": 37,
   "metadata": {},
   "outputs": [
    {
     "name": "stdout",
     "output_type": "stream",
     "text": [
      "top score was 0.7352941176470589\n"
     ]
    }
   ],
   "source": [
    "# finding best params\n",
    "\n",
    "best_score = 0\n",
    "knn_best_params = None\n",
    "for i in range(len(acc_list)):\n",
    "    score = acc_list[i]\n",
    "    if score > best_score:\n",
    "        best_score = score\n",
    "        knn_best_params = param_list[i]\n",
    "        \n",
    "print('top score was', best_score)"
   ]
  },
  {
   "cell_type": "code",
   "execution_count": 38,
   "metadata": {},
   "outputs": [
    {
     "name": "stdout",
     "output_type": "stream",
     "text": [
      "p\n"
     ]
    },
    {
     "data": {
      "application/vnd.plotly.v1+json": {
       "data": [
        {
         "mode": "markers",
         "type": "scatter",
         "uid": "c1080a8e-a5b3-11e8-9d89-88e9fe7b2dc1",
         "x": [
          1,
          2,
          1,
          2,
          1,
          2,
          1,
          2,
          1,
          1
         ],
         "y": [
          0.7352941176470589,
          0.7156862745098039,
          0.7156862745098039,
          0.7058823529411765,
          0.7156862745098039,
          0.7156862745098039,
          0.7352941176470589,
          0.7156862745098039,
          0.7352941176470589,
          0.7352941176470589
         ]
        }
       ],
       "layout": {}
      },
      "text/html": [
       "<div id=\"f757a5aa-f76b-45e8-b491-f26663f64688\" style=\"height: 525px; width: 100%;\" class=\"plotly-graph-div\"></div><script type=\"text/javascript\">require([\"plotly\"], function(Plotly) { window.PLOTLYENV=window.PLOTLYENV || {};window.PLOTLYENV.BASE_URL=\"https://plot.ly\";Plotly.newPlot(\"f757a5aa-f76b-45e8-b491-f26663f64688\", [{\"mode\": \"markers\", \"x\": [1, 2, 1, 2, 1, 2, 1, 2, 1, 1], \"y\": [0.7352941176470589, 0.7156862745098039, 0.7156862745098039, 0.7058823529411765, 0.7156862745098039, 0.7156862745098039, 0.7352941176470589, 0.7156862745098039, 0.7352941176470589, 0.7352941176470589], \"type\": \"scatter\", \"uid\": \"c10d8298-a5b3-11e8-9d89-88e9fe7b2dc1\"}], {}, {\"showLink\": true, \"linkText\": \"Export to plot.ly\"})});</script>"
      ],
      "text/vnd.plotly.v1+html": [
       "<div id=\"f757a5aa-f76b-45e8-b491-f26663f64688\" style=\"height: 525px; width: 100%;\" class=\"plotly-graph-div\"></div><script type=\"text/javascript\">require([\"plotly\"], function(Plotly) { window.PLOTLYENV=window.PLOTLYENV || {};window.PLOTLYENV.BASE_URL=\"https://plot.ly\";Plotly.newPlot(\"f757a5aa-f76b-45e8-b491-f26663f64688\", [{\"mode\": \"markers\", \"x\": [1, 2, 1, 2, 1, 2, 1, 2, 1, 1], \"y\": [0.7352941176470589, 0.7156862745098039, 0.7156862745098039, 0.7058823529411765, 0.7156862745098039, 0.7156862745098039, 0.7352941176470589, 0.7156862745098039, 0.7352941176470589, 0.7352941176470589], \"type\": \"scatter\", \"uid\": \"c10d8298-a5b3-11e8-9d89-88e9fe7b2dc1\"}], {}, {\"showLink\": true, \"linkText\": \"Export to plot.ly\"})});</script>"
      ]
     },
     "metadata": {},
     "output_type": "display_data"
    },
    {
     "name": "stdout",
     "output_type": "stream",
     "text": [
      "n_neighbors\n"
     ]
    },
    {
     "data": {
      "application/vnd.plotly.v1+json": {
       "data": [
        {
         "mode": "markers",
         "type": "scatter",
         "uid": "c112f3ae-a5b3-11e8-9d89-88e9fe7b2dc1",
         "x": [
          1,
          1,
          2,
          3,
          2,
          1,
          1,
          1,
          1,
          1
         ],
         "y": [
          0.7352941176470589,
          0.7156862745098039,
          0.7156862745098039,
          0.7058823529411765,
          0.7156862745098039,
          0.7156862745098039,
          0.7352941176470589,
          0.7156862745098039,
          0.7352941176470589,
          0.7352941176470589
         ]
        }
       ],
       "layout": {}
      },
      "text/html": [
       "<div id=\"f95607ec-998a-48f1-b2f1-d287d76fae75\" style=\"height: 525px; width: 100%;\" class=\"plotly-graph-div\"></div><script type=\"text/javascript\">require([\"plotly\"], function(Plotly) { window.PLOTLYENV=window.PLOTLYENV || {};window.PLOTLYENV.BASE_URL=\"https://plot.ly\";Plotly.newPlot(\"f95607ec-998a-48f1-b2f1-d287d76fae75\", [{\"mode\": \"markers\", \"x\": [1, 1, 2, 3, 2, 1, 1, 1, 1, 1], \"y\": [0.7352941176470589, 0.7156862745098039, 0.7156862745098039, 0.7058823529411765, 0.7156862745098039, 0.7156862745098039, 0.7352941176470589, 0.7156862745098039, 0.7352941176470589, 0.7352941176470589], \"type\": \"scatter\", \"uid\": \"c117ad90-a5b3-11e8-9d89-88e9fe7b2dc1\"}], {}, {\"showLink\": true, \"linkText\": \"Export to plot.ly\"})});</script>"
      ],
      "text/vnd.plotly.v1+html": [
       "<div id=\"f95607ec-998a-48f1-b2f1-d287d76fae75\" style=\"height: 525px; width: 100%;\" class=\"plotly-graph-div\"></div><script type=\"text/javascript\">require([\"plotly\"], function(Plotly) { window.PLOTLYENV=window.PLOTLYENV || {};window.PLOTLYENV.BASE_URL=\"https://plot.ly\";Plotly.newPlot(\"f95607ec-998a-48f1-b2f1-d287d76fae75\", [{\"mode\": \"markers\", \"x\": [1, 1, 2, 3, 2, 1, 1, 1, 1, 1], \"y\": [0.7352941176470589, 0.7156862745098039, 0.7156862745098039, 0.7058823529411765, 0.7156862745098039, 0.7156862745098039, 0.7352941176470589, 0.7156862745098039, 0.7352941176470589, 0.7352941176470589], \"type\": \"scatter\", \"uid\": \"c117ad90-a5b3-11e8-9d89-88e9fe7b2dc1\"}], {}, {\"showLink\": true, \"linkText\": \"Export to plot.ly\"})});</script>"
      ]
     },
     "metadata": {},
     "output_type": "display_data"
    }
   ],
   "source": [
    "for param in random_grid.best_params_:\n",
    "    x = []\n",
    "    y = []\n",
    "    print(param)\n",
    "    for i in range(len(param_list)):\n",
    "        x.append(param_list[i][param])\n",
    "        y.append(acc_list[i])\n",
    "        \n",
    "    py.iplot([go.Scatter(x=x, y=y, mode='markers')])"
   ]
  },
  {
   "cell_type": "code",
   "execution_count": 41,
   "metadata": {},
   "outputs": [
    {
     "name": "stdout",
     "output_type": "stream",
     "text": [
      "0.7352941176470589 was the best score\n",
      "{'kernel': 'rbf', 'gamma': 0.10101010101010102, 'C': 4.641588833612779} were the params\n",
      "0.7450980392156863 was the best score\n",
      "{'kernel': 'rbf', 'gamma': 0.06060606060606061, 'C': 1.2328467394420661} were the params\n",
      "0.7156862745098039 was the best score\n",
      "{'kernel': 'rbf', 'gamma': 0.011363636363636364, 'C': 9.326033468832199} were the params\n",
      "0.7254901960784313 was the best score\n",
      "{'kernel': 'rbf', 'gamma': 0.09974747474747475, 'C': 1.2045035402587823} were the params\n",
      "0.7352941176470589 was the best score\n",
      "{'kernel': 'rbf', 'gamma': 0.0744949494949495, 'C': 3.0538555088334154} were the params\n",
      "0.7058823529411765 was the best score\n",
      "{'kernel': 'rbf', 'gamma': 0.125, 'C': 3.274549162877729} were the params\n",
      "0.7156862745098039 was the best score\n",
      "{'kernel': 'rbf', 'gamma': 0.06565656565656566, 'C': 1.1497569953977358} were the params\n",
      "0.7450980392156863 was the best score\n",
      "{'kernel': 'rbf', 'gamma': 0.09217171717171718, 'C': 1.5922827933410924} were the params\n",
      "0.7352941176470589 was the best score\n",
      "{'kernel': 'rbf', 'gamma': 0.036616161616161616, 'C': 5.3366992312063095} were the params\n",
      "0.7450980392156863 was the best score\n",
      "{'kernel': 'rbf', 'gamma': 0.10101010101010102, 'C': 1.8307382802953682} were the params\n",
      "0.7549019607843137 was the best score\n",
      "{'kernel': 'rbf', 'gamma': 0.04671717171717172, 'C': 1.5199110829529336} were the params\n",
      "0.7352941176470589 was the best score\n",
      "{'kernel': 'rbf', 'gamma': 0.025252525252525256, 'C': 5.462277217684343} were the params\n",
      "0.7450980392156863 was the best score\n",
      "{'kernel': 'rbf', 'gamma': 0.08712121212121213, 'C': 1.1497569953977358} were the params\n",
      "0.7352941176470589 was the best score\n",
      "{'kernel': 'rbf', 'gamma': 0.09090909090909091, 'C': 1.1233240329780274} were the params\n",
      "0.7058823529411765 was the best score\n",
      "{'kernel': 'rbf', 'gamma': 0.11994949494949496, 'C': 1.6681005372000588} were the params\n",
      "0.7450980392156863 was the best score\n",
      "{'kernel': 'rbf', 'gamma': 0.0441919191919192, 'C': 1.2045035402587823} were the params\n",
      "0.7450980392156863 was the best score\n",
      "{'kernel': 'rbf', 'gamma': 0.09469696969696971, 'C': 3.274549162877729} were the params\n",
      "0.7254901960784313 was the best score\n",
      "{'kernel': 'rbf', 'gamma': 0.06818181818181819, 'C': 1.9630406500402708} were the params\n",
      "0.7450980392156863 was the best score\n",
      "{'kernel': 'rbf', 'gamma': 0.09469696969696971, 'C': 1.384886371393873} were the params\n",
      "0.7254901960784313 was the best score\n",
      "{'kernel': 'rbf', 'gamma': 0.07323232323232323, 'C': 3.4304692863149184} were the params\n",
      "0.7254901960784313 was the best score\n",
      "{'kernel': 'rbf', 'gamma': 0.06565656565656566, 'C': 6.428073117284322} were the params\n",
      "0.7549019607843137 was the best score\n",
      "{'kernel': 'rbf', 'gamma': 0.02777777777777778, 'C': 3.1992671377973836} were the params\n",
      "0.7352941176470589 was the best score\n",
      "{'kernel': 'rbf', 'gamma': 0.0441919191919192, 'C': 2.718588242732941} were the params\n",
      "0.7450980392156863 was the best score\n",
      "{'kernel': 'rbf', 'gamma': 0.020202020202020204, 'C': 2.782559402207125} were the params\n",
      "0.7352941176470589 was the best score\n",
      "{'kernel': 'rbf', 'gamma': 0.10227272727272728, 'C': 1.4174741629268053} were the params\n",
      "0.7352941176470589 was the best score\n",
      "{'kernel': 'rbf', 'gamma': 0.09722222222222222, 'C': 4.7508101621027965} were the params\n",
      "0.7156862745098039 was the best score\n",
      "{'kernel': 'rbf', 'gamma': 0.1047979797979798, 'C': 2.9836472402833394} were the params\n",
      "0.7254901960784313 was the best score\n",
      "{'kernel': 'rbf', 'gamma': 0.034090909090909095, 'C': 4.862601580065355} were the params\n",
      "0.7450980392156863 was the best score\n",
      "{'kernel': 'rbf', 'gamma': 0.0984848484848485, 'C': 1.6297508346206442} were the params\n",
      "0.7156862745098039 was the best score\n",
      "{'kernel': 'rbf', 'gamma': 0.0643939393939394, 'C': 4.862601580065355} were the params\n"
     ]
    }
   ],
   "source": [
    "# now lets do the same for a hypertuned svm classifier; it looked like you might be able\n",
    "# to get good results\n",
    "\n",
    "from sklearn.svm import SVC\n",
    "from sklearn.preprocessing import StandardScaler\n",
    "\n",
    "X = df.drop(['Survived', 'Salutation', 'IsAlone', 'YouthFamilyScore'], axis=1)\n",
    "\n",
    "X = X[['NumRelatives', 'Fare', 'Age', 'IsBritish', 'BoardedAtSouthamption', 'AgeLogFare', 'SibSp', 'BoardedAtCherbourg']]\n",
    "#X = StandardScaler().fit_transform(X)\n",
    "\n",
    "y = df['Survived']\n",
    "# usually svc performs better with higher dimensionality data\n",
    "\n",
    "# use same skf from before\n",
    "\n",
    "n_trials = 30\n",
    "param_acc_list = []\n",
    "\n",
    "for t in range(n_trials):\n",
    "    \n",
    "    param_dict = {\n",
    "        'C': np.logspace(0, 1, num=100, base=10.),\n",
    "        'kernel': ['rbf'],\n",
    "        'gamma': np.linspace(0, 1/X.shape[1], num=100)\n",
    "    }\n",
    "    \n",
    "    random_grid = RandomizedSearchCV(\n",
    "        estimator=SVC(),\n",
    "        param_distributions = param_dict,\n",
    "        scoring='accuracy',\n",
    "        cv = skf.split(X, y),\n",
    "        n_jobs=-1,\n",
    "        n_iter=2\n",
    "    )\n",
    "    \n",
    "    random_grid.fit(X, y)\n",
    "    \n",
    "    print(random_grid.best_score_, 'was the best score')\n",
    "    print(random_grid.best_params_, 'were the params')\n",
    "    param_acc_list.append((random_grid.best_params_, random_grid.best_score_))\n",
    "    \n",
    "param_acc_list = sorted(param_acc_list, key = lambda tup: tup[-1])"
   ]
  },
  {
   "cell_type": "code",
   "execution_count": 65,
   "metadata": {},
   "outputs": [
    {
     "name": "stdout",
     "output_type": "stream",
     "text": [
      "best score was 0.7549019607843137\n",
      "params that go with that is {'kernel': 'rbf', 'gamma': 0.02777777777777778, 'C': 3.1992671377973836}\n",
      "average score was 0.7333333333333333\n"
     ]
    }
   ],
   "source": [
    "(svc_best_params, best_score) = param_acc_list[-1]\n",
    "print('best score was', best_score)\n",
    "print('params that go with that is', svc_best_params)\n",
    "print('average score was', sum([tup[1] for tup in param_acc_list])/len(param_acc_list))"
   ]
  },
  {
   "cell_type": "code",
   "execution_count": 61,
   "metadata": {},
   "outputs": [
    {
     "data": {
      "text/html": [
       "<script>requirejs.config({paths: { 'plotly': ['https://cdn.plot.ly/plotly-latest.min']},});if(!window.Plotly) {{require(['plotly'],function(plotly) {window.Plotly=plotly;});}}</script>"
      ],
      "text/vnd.plotly.v1+html": [
       "<script>requirejs.config({paths: { 'plotly': ['https://cdn.plot.ly/plotly-latest.min']},});if(!window.Plotly) {{require(['plotly'],function(plotly) {window.Plotly=plotly;});}}</script>"
      ]
     },
     "metadata": {},
     "output_type": "display_data"
    },
    {
     "data": {
      "application/vnd.plotly.v1+json": {
       "data": [
        {
         "mode": "markers",
         "name": "alive",
         "type": "scatter",
         "uid": "9909d10a-a5b5-11e8-9d89-88e9fe7b2dc1",
         "x": [
          0.16511977575968623,
          0.10534107624790452,
          0.13860913577889894,
          1.1526531498508317,
          1.005094631634685,
          0.15353509655345615,
          1.091174855884441,
          0.1575772927907239,
          0.05569340385477044,
          0.030001683362467314,
          0.15599848865822633,
          0.17369529651407004,
          0.16334995453094753,
          1.0826637986394674,
          1.1874714239018216,
          0.0532788813546073,
          0.02642675097218703,
          1.117679653409479,
          0.01671339018818032,
          0.028420419961307463,
          0.04552514441515556,
          1.1943502753706585,
          0.1565729143772402,
          1.1248590772810554,
          0.16955063160760214,
          0.13383326376921204,
          1.0112846879314754,
          1.1280918799496205
         ],
         "y": [
          0.02107308597114941,
          0.009939361247262867,
          0.022731492516551287,
          0.03238129044729776,
          1.0612172378221223,
          0.09597543157695813,
          1.0376749141794561,
          0.03573761551593171,
          1.080400337675867,
          0.037594183789420296,
          0.05112684427039904,
          0.001751073546236781,
          0.19634029706112413,
          1.0730359890893173,
          1.1157110927296308,
          0.046768302730548286,
          0.1425731956879766,
          1.0490954022518513,
          0.005422638286529202,
          0.021956894654505676,
          0.11485224959126952,
          1.1124015818755422,
          1.0844779780535316,
          1.0688654624616556,
          0.12150498814410675,
          0.19466177710210641,
          0.18738060027348322,
          1.055482644286598
         ]
        },
        {
         "mode": "markers",
         "name": "dead",
         "type": "scatter",
         "uid": "9909d236-a5b5-11e8-9d89-88e9fe7b2dc1",
         "x": [
          0.07248140088386008,
          0.13122594045025812,
          1.0849779349228679,
          0.15819981301598188,
          0.19838727661212935,
          0.09489356370617393,
          0.06560231059843935,
          0.055267808091498005,
          1.1418103988570318,
          0.07145488774441495,
          1.066493701482425,
          0.19551086911943127,
          1.177202963903912,
          1.186959875689374,
          0.16487300086195028,
          0.15659672852386974,
          0.12303550923901148,
          1.1300257047855844,
          0.00028420470179808533,
          0.10743795553260282,
          0.05179005412671618,
          1.0688205070070487,
          0.09500541868915076
         ],
         "y": [
          0.09408856703712887,
          0.032945698209080665,
          1.078142640968824,
          0.02164725694826162,
          0.14665195638312584,
          1.1868150144450298,
          1.0298649467244172,
          0.08829727200575943,
          1.11766617200562,
          0.14879009466104368,
          1.0723051642105648,
          0.12325992527506364,
          1.1669960559451693,
          1.1895780858076614,
          0.17441270423370425,
          0.07707396612765897,
          0.08863635631666567,
          1.0371133206012269,
          0.10697035089600637,
          0.05496854321233491,
          1.0451074700285772,
          0.08816724322494773,
          0.13695035492133092
         ]
        }
       ],
       "layout": {}
      },
      "text/html": [
       "<div id=\"50e69e84-4286-411e-a292-e12650e52660\" style=\"height: 525px; width: 100%;\" class=\"plotly-graph-div\"></div><script type=\"text/javascript\">require([\"plotly\"], function(Plotly) { window.PLOTLYENV=window.PLOTLYENV || {};window.PLOTLYENV.BASE_URL=\"https://plot.ly\";Plotly.newPlot(\"50e69e84-4286-411e-a292-e12650e52660\", [{\"mode\": \"markers\", \"name\": \"alive\", \"x\": [0.16511977575968623, 0.10534107624790452, 0.13860913577889894, 1.1526531498508317, 1.005094631634685, 0.15353509655345615, 1.091174855884441, 0.1575772927907239, 0.05569340385477044, 0.030001683362467314, 0.15599848865822633, 0.17369529651407004, 0.16334995453094753, 1.0826637986394674, 1.1874714239018216, 0.0532788813546073, 0.02642675097218703, 1.117679653409479, 0.01671339018818032, 0.028420419961307463, 0.04552514441515556, 1.1943502753706585, 0.1565729143772402, 1.1248590772810554, 0.16955063160760214, 0.13383326376921204, 1.0112846879314754, 1.1280918799496205], \"y\": [0.02107308597114941, 0.009939361247262867, 0.022731492516551287, 0.03238129044729776, 1.0612172378221223, 0.09597543157695813, 1.0376749141794561, 0.03573761551593171, 1.080400337675867, 0.037594183789420296, 0.05112684427039904, 0.001751073546236781, 0.19634029706112413, 1.0730359890893173, 1.1157110927296308, 0.046768302730548286, 0.1425731956879766, 1.0490954022518513, 0.005422638286529202, 0.021956894654505676, 0.11485224959126952, 1.1124015818755422, 1.0844779780535316, 1.0688654624616556, 0.12150498814410675, 0.19466177710210641, 0.18738060027348322, 1.055482644286598], \"type\": \"scatter\", \"uid\": \"990d72a6-a5b5-11e8-9d89-88e9fe7b2dc1\"}, {\"mode\": \"markers\", \"name\": \"dead\", \"x\": [0.07248140088386008, 0.13122594045025812, 1.0849779349228679, 0.15819981301598188, 0.19838727661212935, 0.09489356370617393, 0.06560231059843935, 0.055267808091498005, 1.1418103988570318, 0.07145488774441495, 1.066493701482425, 0.19551086911943127, 1.177202963903912, 1.186959875689374, 0.16487300086195028, 0.15659672852386974, 0.12303550923901148, 1.1300257047855844, 0.00028420470179808533, 0.10743795553260282, 0.05179005412671618, 1.0688205070070487, 0.09500541868915076], \"y\": [0.09408856703712887, 0.032945698209080665, 1.078142640968824, 0.02164725694826162, 0.14665195638312584, 1.1868150144450298, 1.0298649467244172, 0.08829727200575943, 1.11766617200562, 0.14879009466104368, 1.0723051642105648, 0.12325992527506364, 1.1669960559451693, 1.1895780858076614, 0.17441270423370425, 0.07707396612765897, 0.08863635631666567, 1.0371133206012269, 0.10697035089600637, 0.05496854321233491, 1.0451074700285772, 0.08816724322494773, 0.13695035492133092], \"type\": \"scatter\", \"uid\": \"990d73f0-a5b5-11e8-9d89-88e9fe7b2dc1\"}], {}, {\"showLink\": true, \"linkText\": \"Export to plot.ly\"})});</script>"
      ],
      "text/vnd.plotly.v1+html": [
       "<div id=\"50e69e84-4286-411e-a292-e12650e52660\" style=\"height: 525px; width: 100%;\" class=\"plotly-graph-div\"></div><script type=\"text/javascript\">require([\"plotly\"], function(Plotly) { window.PLOTLYENV=window.PLOTLYENV || {};window.PLOTLYENV.BASE_URL=\"https://plot.ly\";Plotly.newPlot(\"50e69e84-4286-411e-a292-e12650e52660\", [{\"mode\": \"markers\", \"name\": \"alive\", \"x\": [0.16511977575968623, 0.10534107624790452, 0.13860913577889894, 1.1526531498508317, 1.005094631634685, 0.15353509655345615, 1.091174855884441, 0.1575772927907239, 0.05569340385477044, 0.030001683362467314, 0.15599848865822633, 0.17369529651407004, 0.16334995453094753, 1.0826637986394674, 1.1874714239018216, 0.0532788813546073, 0.02642675097218703, 1.117679653409479, 0.01671339018818032, 0.028420419961307463, 0.04552514441515556, 1.1943502753706585, 0.1565729143772402, 1.1248590772810554, 0.16955063160760214, 0.13383326376921204, 1.0112846879314754, 1.1280918799496205], \"y\": [0.02107308597114941, 0.009939361247262867, 0.022731492516551287, 0.03238129044729776, 1.0612172378221223, 0.09597543157695813, 1.0376749141794561, 0.03573761551593171, 1.080400337675867, 0.037594183789420296, 0.05112684427039904, 0.001751073546236781, 0.19634029706112413, 1.0730359890893173, 1.1157110927296308, 0.046768302730548286, 0.1425731956879766, 1.0490954022518513, 0.005422638286529202, 0.021956894654505676, 0.11485224959126952, 1.1124015818755422, 1.0844779780535316, 1.0688654624616556, 0.12150498814410675, 0.19466177710210641, 0.18738060027348322, 1.055482644286598], \"type\": \"scatter\", \"uid\": \"990d72a6-a5b5-11e8-9d89-88e9fe7b2dc1\"}, {\"mode\": \"markers\", \"name\": \"dead\", \"x\": [0.07248140088386008, 0.13122594045025812, 1.0849779349228679, 0.15819981301598188, 0.19838727661212935, 0.09489356370617393, 0.06560231059843935, 0.055267808091498005, 1.1418103988570318, 0.07145488774441495, 1.066493701482425, 0.19551086911943127, 1.177202963903912, 1.186959875689374, 0.16487300086195028, 0.15659672852386974, 0.12303550923901148, 1.1300257047855844, 0.00028420470179808533, 0.10743795553260282, 0.05179005412671618, 1.0688205070070487, 0.09500541868915076], \"y\": [0.09408856703712887, 0.032945698209080665, 1.078142640968824, 0.02164725694826162, 0.14665195638312584, 1.1868150144450298, 1.0298649467244172, 0.08829727200575943, 1.11766617200562, 0.14879009466104368, 1.0723051642105648, 0.12325992527506364, 1.1669960559451693, 1.1895780858076614, 0.17441270423370425, 0.07707396612765897, 0.08863635631666567, 1.0371133206012269, 0.10697035089600637, 0.05496854321233491, 1.0451074700285772, 0.08816724322494773, 0.13695035492133092], \"type\": \"scatter\", \"uid\": \"990d73f0-a5b5-11e8-9d89-88e9fe7b2dc1\"}], {}, {\"showLink\": true, \"linkText\": \"Export to plot.ly\"})});</script>"
      ]
     },
     "metadata": {},
     "output_type": "display_data"
    }
   ],
   "source": [
    "# lets graph the outputs and take a look from the best parameters of both models;\n",
    "# we can try a couple model stacking methods and see\n",
    "\n",
    "import plotly.offline as py\n",
    "import plotly.graph_objs as go\n",
    "py.init_notebook_mode(True)\n",
    "\n",
    "from sklearn.model_selection import train_test_split\n",
    "from sklearn.neighbors import KNeighborsRegressor\n",
    "\n",
    "X = df.drop(['Survived', 'Salutation', 'IsAlone', 'YouthFamilyScore'], axis=1)\n",
    "\n",
    "X = X[['NumRelatives', 'Fare', 'Age', 'IsBritish', 'BoardedAtSouthamption', 'AgeLogFare', 'SibSp', 'BoardedAtCherbourg']]\n",
    "#X = StandardScaler().fit_transform(X)\n",
    "\n",
    "y = list(df['Survived'])\n",
    "\n",
    "svc = SVC(**svc_best_params)\n",
    "knn = KNeighborsRegressor(**knn_best_params)\n",
    "\n",
    "X_train, X_test, y_train, y_test = train_test_split(X, y, train_size=0.5, shuffle=True)\n",
    "\n",
    "svc.fit(X_train, y_train)\n",
    "knn.fit(X_train, y_train)\n",
    "\n",
    "svc_output = svc.predict(X_test)\n",
    "knn_output = knn.predict(X_test)\n",
    "\n",
    "actual = y\n",
    "\n",
    "alive = []\n",
    "dead = []\n",
    "\n",
    "for i in range(len(svc_output)):\n",
    "    tup = (svc_output[i] + np.random.rand()/5, knn_output[i] + np.random.rand()/5)\n",
    "    if y[i] == 1:\n",
    "        alive.append(tup)\n",
    "    else:\n",
    "        dead.append(tup)\n",
    "        \n",
    "alive_trace = go.Scatter(x = [tup[0] for tup in alive], y = [tup[1] for tup in alive], mode='markers', name='alive')\n",
    "dead_trace = go.Scatter(x = [tup[0] for tup in dead], y = [tup[1] for tup in dead], mode='markers', name='dead')\n",
    "\n",
    "py.iplot([alive_trace, dead_trace])"
   ]
  },
  {
   "cell_type": "code",
   "execution_count": null,
   "metadata": {},
   "outputs": [],
   "source": [
    "# the models seem to predict the same output, but a 10% increase using either is pretty good..."
   ]
  }
 ],
 "metadata": {
  "kernelspec": {
   "display_name": "Python 3",
   "language": "python",
   "name": "python3"
  },
  "language_info": {
   "codemirror_mode": {
    "name": "ipython",
    "version": 3
   },
   "file_extension": ".py",
   "mimetype": "text/x-python",
   "name": "python",
   "nbconvert_exporter": "python",
   "pygments_lexer": "ipython3",
   "version": "3.7.0"
  }
 },
 "nbformat": 4,
 "nbformat_minor": 2
}
